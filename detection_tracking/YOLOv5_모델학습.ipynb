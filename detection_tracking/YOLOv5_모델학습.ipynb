{
 "cells": [
  {
   "cell_type": "markdown",
   "metadata": {},
   "source": [
    "# 가상환경 yolov5_training"
   ]
  },
  {
   "cell_type": "code",
   "execution_count": null,
   "metadata": {
    "colab": {
     "base_uri": "https://localhost:8080/"
    },
    "id": "ZNk9cj4uJ9MK",
    "outputId": "372c653e-e45e-49f9-a344-dd8d44f8b381"
   },
   "outputs": [],
   "source": [
    "import os\n",
    "print('현재 작업 경로 :', os.getcwd())\n",
    "os.chdir('/home/piai/Obstacles')\n",
    "print('변경된 작업 경로 :', os.getcwd())"
   ]
  },
  {
   "cell_type": "code",
   "execution_count": null,
   "metadata": {
    "colab": {
     "base_uri": "https://localhost:8080/"
    },
    "id": "83Uii_zpIfM0",
    "outputId": "21d325c1-9e52-417d-ee88-056ec0c87ab4"
   },
   "outputs": [],
   "source": [
    "# 처음에 한번만 실행 !\n",
    "# !git clone https://github.com/ultralytics/yolov5  # YOLOv5 레퍼지토리 clone"
   ]
  },
  {
   "cell_type": "code",
   "execution_count": null,
   "metadata": {
    "colab": {
     "base_uri": "https://localhost:8080/"
    },
    "id": "A3Ih3qDUrjqz",
    "outputId": "71b8b102-d4fa-46b6-ed47-3878ba8a23b5"
   },
   "outputs": [],
   "source": [
    "# # 필요한 패키지 다운로드 및 임포트\n",
    "%cd yolov5\n",
    "# %pip install -qr requirements.txt # install dependencies\n",
    "# %pip install -q roboflow"
   ]
  },
  {
   "cell_type": "code",
   "execution_count": null,
   "metadata": {},
   "outputs": [],
   "source": [
    "import torch\n",
    "import yaml\n",
    "from IPython.display import Image, clear_output  # to display images"
   ]
  },
  {
   "cell_type": "code",
   "execution_count": null,
   "metadata": {
    "id": "OqAHuO5LLcbg"
   },
   "outputs": [],
   "source": [
    "# 사용할 데이터셋 경로 및 데이터셋의 yaml 파일 경로 지정\n",
    "data_dir = '/home/piai/Obstacles'\n",
    "data_yaml = '/home/piai/Obstacles/data.yaml'"
   ]
  },
  {
   "cell_type": "code",
   "execution_count": null,
   "metadata": {
    "colab": {
     "base_uri": "https://localhost:8080/",
     "height": 191
    },
    "id": "CGKnqP5zfIja",
    "outputId": "1ed147be-cd6e-4880-bdec-d9fbae5bb312"
   },
   "outputs": [],
   "source": [
    "# 데이터셋 yaml 파일 확인\n",
    "with open(data_yaml) as f:\n",
    "    film = yaml.load(f, Loader=yaml.FullLoader)\n",
    "    display(film)"
   ]
  },
  {
   "cell_type": "code",
   "execution_count": null,
   "metadata": {
    "colab": {
     "base_uri": "https://localhost:8080/",
     "height": 208
    },
    "id": "bWWLCozsgNuv",
    "outputId": "41df55d7-813f-4f93-82d2-751d6e63ff5b"
   },
   "outputs": [],
   "source": [
    "# yaml 파일의 train, val 데이터가 있는 경로 수정 (기존 경로 -> 구글 드라이브에 저장된 경로로)\n",
    "film['train'] = '../train/images'\n",
    "film['val'] = '../valid/images'\n",
    "\n",
    "with open(data_yaml, 'w') as f:\n",
    "    yaml.dump(film, f)\n",
    "\n",
    "print('변경된 yaml 파일 :')\n",
    "with open(data_yaml) as f:\n",
    "    film = yaml.load(f, Loader=yaml.FullLoader)\n",
    "    display(film)"
   ]
  },
  {
   "cell_type": "code",
   "execution_count": null,
   "metadata": {
    "colab": {
     "base_uri": "https://localhost:8080/"
    },
    "id": "p69MjETVIosl",
    "outputId": "62ba5a27-04d0-4bc3-9fb4-e7e430e0c9da"
   },
   "outputs": [],
   "source": [
    "!python train.py --img 416 --batch 16 --epochs 10 --data {data_yaml} --weights yolov5s.pt --cache"
   ]
  },
  {
   "cell_type": "code",
   "execution_count": null,
   "metadata": {
    "id": "6ojneajYIouo"
   },
   "outputs": [],
   "source": [
    "# # Start tensorboard\n",
    "# # Launch after you have started training\n",
    "# # logs save in the folder \"runs\"\n",
    "# !pip install tensorboard\n",
    "# import tensorboard\n",
    "# %load_ext tensorboard\n",
    "# %tensorboard --logdir runs"
   ]
  },
  {
   "cell_type": "code",
   "execution_count": null,
   "metadata": {
    "id": "F74pJC73VTPw"
   },
   "outputs": [],
   "source": [
    "# 테스트 이미지 경로\n",
    "test_data_dir = film['val']\n",
    "\n",
    "# 실험 번호 지정 - 진행한 실험이 저장된 경로 확인해서 기입! - runs/train/exp1 인지 exp2, exp3 인지 확인 후 아래 번호 지정\n",
    "train_exp_num = 2"
   ]
  },
  {
   "cell_type": "code",
   "execution_count": null,
   "metadata": {
    "colab": {
     "base_uri": "https://localhost:8080/"
    },
    "id": "ttCVP0FTIowP",
    "outputId": "d761157a-6406-4841-92d4-364a604ec973"
   },
   "outputs": [],
   "source": [
    "!python detect.py --weights runs/train/exp{train_exp_num}/weights/best.pt --img 416 --conf 0.1 --source {test_data_dir}"
   ]
  },
  {
   "cell_type": "code",
   "execution_count": null,
   "metadata": {
    "colab": {
     "base_uri": "https://localhost:8080/",
     "height": 1000
    },
    "id": "76PYHTpVIoyH",
    "outputId": "0987448f-5dd3-4777-aee6-fd59065c7cc2"
   },
   "outputs": [],
   "source": [
    "# 테스트 결과 확인해보기\n",
    "\n",
    "import glob\n",
    "from IPython.display import Image, display\n",
    "\n",
    "test_exp_num = 2\n",
    "\n",
    "if not os.path.exists('/home/piai/Obstacles/yolov5/runs/detect/exp' + str(test_exp_num) + '/') :\n",
    "  raise Exception('test_exp_num 을 다시 확인하세요.')\n",
    "\n",
    "for imageName in glob.glob('/home/piai/Obstacles/yolov5/runs/detect/exp' + str(test_exp_num) + '/*.jpg'): #assuming JPG\n",
    "    display(Image(filename=imageName))\n",
    "    print(\"\\n\")"
   ]
  },
  {
   "cell_type": "code",
   "execution_count": null,
   "metadata": {
    "colab": {
     "base_uri": "https://localhost:8080/",
     "height": 17
    },
    "id": "GwqGldnIIo0O",
    "outputId": "9f8447f3-f770-4e3d-9e97-c640428f59dd"
   },
   "outputs": [],
   "source": [
    "# 학습한 베스트 모델 저장\n",
    "from google.colab import files\n",
    "files.download('./runs/train/exp' + str(test_exp_num) + '/weights/best.pt')"
   ]
  }
 ],
 "metadata": {
  "accelerator": "GPU",
  "colab": {
   "gpuType": "T4",
   "provenance": []
  },
  "kernelspec": {
   "display_name": "Python 3 (ipykernel)",
   "language": "python",
   "name": "python3"
  },
  "language_info": {
   "codemirror_mode": {
    "name": "ipython",
    "version": 3
   },
   "file_extension": ".py",
   "mimetype": "text/x-python",
   "name": "python",
   "nbconvert_exporter": "python",
   "pygments_lexer": "ipython3",
   "version": "3.10.14"
  },
  "vscode": {
   "interpreter": {
    "hash": "31f2aee4e71d21fbe5cf8b01ff0e069b9275f58929596ceb00d14d90e3e16cd6"
   }
  }
 },
 "nbformat": 4,
 "nbformat_minor": 4
}
